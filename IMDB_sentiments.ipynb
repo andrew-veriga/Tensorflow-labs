{
  "nbformat": 4,
  "nbformat_minor": 0,
  "metadata": {
    "colab": {
      "name": "Course 3 - Week 2 - Lesson 1.ipynb",
      "provenance": [],
      "collapsed_sections": [],
      "include_colab_link": true
    },
    "kernelspec": {
      "name": "python3",
      "display_name": "Python 3"
    },
    "accelerator": "GPU"
  },
  "cells": [
    {
      "cell_type": "markdown",
      "metadata": {
        "id": "view-in-github",
        "colab_type": "text"
      },
      "source": [
        "<a href=\"https://colab.research.google.com/github/andrew-veriga/Tensorflow-labs/blob/master/IMDB_sentiments.ipynb\" target=\"_parent\"><img src=\"https://colab.research.google.com/assets/colab-badge.svg\" alt=\"Open In Colab\"/></a>"
      ]
    },
    {
      "cell_type": "code",
      "metadata": {
        "id": "P-AhVYeBWgQ3",
        "colab": {
          "base_uri": "https://localhost:8080/"
        },
        "outputId": "0b132ce7-3360-43cc-a3f0-74d994bbb6b8"
      },
      "source": [
        "# NOTE: PLEASE MAKE SURE YOU ARE RUNNING THIS IN A PYTHON3 ENVIRONMENT\n",
        "\n",
        "import tensorflow as tf\n",
        "print(tf.__version__)\n",
        "\n",
        "# This is needed for the iterator over the data\n",
        "# But not necessary if you have TF 2.0 installed\n",
        "#!pip install tensorflow==2.0.0-beta0\n",
        "\n",
        "tf.config.run_functions_eagerly(True)\n",
        "\n",
        "\n",
        "# !pip install -q tensorflow-datasets"
      ],
      "execution_count": 2,
      "outputs": [
        {
          "output_type": "stream",
          "text": [
            "2.4.0\n"
          ],
          "name": "stdout"
        }
      ]
    },
    {
      "cell_type": "markdown",
      "metadata": {
        "id": "9DqxULhEnxfO"
      },
      "source": [
        "Если вы используете Google Colab, то у вас уже есть установленные наборы данных TensorFlow. Если у вас их нет, они легко устанавливаются с помощью команды import.\n",
        "Здесь мы используем датасет отзывов с imdb, команда tfds.load загрузит данные и их метаданные."
      ]
    },
    {
      "cell_type": "code",
      "metadata": {
        "id": "_IoM4VFxWpMR"
      },
      "source": [
        "import tensorflow_datasets as tfds\n",
        "imdb, info = tfds.load(\"imdb_reviews\", with_info=True, as_supervised=True)\n"
      ],
      "execution_count": null,
      "outputs": []
    },
    {
      "cell_type": "markdown",
      "metadata": {
        "id": "R14ClG2xo7FL"
      },
      "source": [
        "Данные разделены на 25 000 примеров обучения и 25 000 примеров тестирования. В каждом из них содержатся предложения и метки в виде тензоров. \n",
        "В циклах создаются массивы numpy"
      ]
    },
    {
      "cell_type": "code",
      "metadata": {
        "id": "wHQ2Ko0zl7M4"
      },
      "source": [
        "import numpy as np\n",
        "\n",
        "train_data, test_data = imdb['train'], imdb['test']\n",
        "\n",
        "training_sentences = []\n",
        "training_labels = []\n",
        "\n",
        "testing_sentences = []\n",
        "testing_labels = []\n",
        "\n",
        "# str(s.tonumpy()) is needed in Python3 instead of just s.numpy()\n",
        "for s,l in train_data:\n",
        "  training_sentences.append(str(s.numpy()))\n",
        "  training_labels.append(l.numpy())\n",
        "  \n",
        "for s,l in test_data:\n",
        "  testing_sentences.append(str(s.numpy()))\n",
        "  testing_labels.append(l.numpy())\n",
        "  \n",
        "training_labels_final = np.array(training_labels)\n",
        "testing_labels_final = np.array(testing_labels)\n"
      ],
      "execution_count": null,
      "outputs": []
    },
    {
      "cell_type": "markdown",
      "metadata": {
        "id": "RZCQ9j8-r2Vy"
      },
      "source": [
        "Посмотрите, как выглядит обзор"
      ]
    },
    {
      "cell_type": "code",
      "metadata": {
        "id": "feNhlglXrcnH"
      },
      "source": [
        "print(training_sentences[2])\n",
        "print(training_labels[2])"
      ],
      "execution_count": null,
      "outputs": []
    },
    {
      "cell_type": "markdown",
      "metadata": {
        "id": "XV0owBKZkLuq"
      },
      "source": [
        "Далее мы токенизируем наши предложения.\n",
        "Обратите внимание, что word_index - это слова, которые получены из учебного набора, поэтому вы будьте готовы встретить намного больше токенов слов во время теста."
      ]
    },
    {
      "cell_type": "code",
      "metadata": {
        "id": "7n15yyMdmoH1"
      },
      "source": [
        "vocab_size = 10000\n",
        "embedding_dim = 16\n",
        "max_length = 120\n",
        "trunc_type='post'\n",
        "oov_tok = \"<OOV>\"\n",
        "\n",
        "\n",
        "from tensorflow.keras.preprocessing.text import Tokenizer\n",
        "from tensorflow.keras.preprocessing.sequence import pad_sequences\n",
        "\n",
        "tokenizer = Tokenizer(num_words = vocab_size, oov_token=oov_tok)\n",
        "tokenizer.fit_on_texts(training_sentences)\n",
        "word_index = tokenizer.word_index\n",
        "sequences = tokenizer.texts_to_sequences(training_sentences)\n",
        "padded = pad_sequences(sequences,maxlen=max_length, truncating=trunc_type)\n",
        "\n",
        "testing_sequences = tokenizer.texts_to_sequences(testing_sentences)\n",
        "testing_padded = pad_sequences(testing_sequences,maxlen=max_length)\n",
        "\n"
      ],
      "execution_count": null,
      "outputs": []
    },
    {
      "cell_type": "code",
      "metadata": {
        "id": "9axf0uIXVMhO"
      },
      "source": [
        "reverse_word_index = dict([(value, key) for (key, value) in word_index.items()])\n",
        "\n",
        "def decode_review(text):\n",
        "    return ' '.join([reverse_word_index.get(i, '?') for i in text])\n",
        "\n",
        "print(decode_review(padded[1]))\n",
        "print(training_sentences[1])"
      ],
      "execution_count": null,
      "outputs": []
    },
    {
      "cell_type": "markdown",
      "metadata": {
        "id": "BCydw5WHkyDH"
      },
      "source": [
        "Пришло время определить нашу нейронную сеть. Это должно выглядеть очень знакомым, за исключением, возможно, строки Embedding. Это ключ к анализу эмоций в текстах в TensorFlow, и именно здесь происходит волшебство.\n",
        "\n",
        "Результатом Embedding будет двумерный массив с первой размерностью - длиной предложения и второй - размером вектора встраивания embedding_dim=16.\n",
        "\n",
        "Затем  мы должны \"расплющить\" его так же, как мы это делали с изображениями."
      ]
    },
    {
      "cell_type": "code",
      "metadata": {
        "id": "5NEpdhb8AxID"
      },
      "source": [
        "model = tf.keras.Sequential([\n",
        "    tf.keras.layers.Embedding(vocab_size, embedding_dim, input_length=max_length),\n",
        "    tf.keras.layers.Flatten(),\n",
        "    #в качестве альтернативы flatten можно использовать GlobalAveragePooling1D который берет среднее значение по каждому вектору, чтобы сделать его одномерным:\n",
        "    #tf.keras.layers.GlobalAveragePooling1D(),\n",
        "    # Он проще и немного быстрее.\n",
        "    tf.keras.layers.Dense(6, activation='relu'),\n",
        "    tf.keras.layers.Dense(1, activation='sigmoid')\n",
        "])\n",
        "model.compile(loss='binary_crossentropy',optimizer='adam',metrics=['accuracy'])\n",
        "model.summary()\n"
      ],
      "execution_count": null,
      "outputs": []
    },
    {
      "cell_type": "code",
      "metadata": {
        "id": "V5LLrXC-uNX6"
      },
      "source": [
        "num_epochs = 10\n",
        "model.fit(padded, training_labels_final, epochs=num_epochs, validation_data=(testing_padded, testing_labels_final))"
      ],
      "execution_count": null,
      "outputs": []
    },
    {
      "cell_type": "markdown",
      "metadata": {
        "id": "eXavjl0O397b"
      },
      "source": [
        "Результаты на наборе обучения дадут нам точность примерно 1,00, и на валидации - примерно 0,82. Скорее всего, здесь оверфиттинг. Мы рассмотрим некоторые стратегии, чтобы избежать этого позже\n",
        "Теперь нам нужно визуализировать embedding. Мы начнем с получения результатов слоя Embedding, который в нашей модели -  нулевой слой. Мы можем получить веса и вывести их размерность следующим образом:"
      ]
    },
    {
      "cell_type": "code",
      "metadata": {
        "id": "yAmjJqEyCOF_"
      },
      "source": [
        "e = model.layers[0]\n",
        "weights = e.get_weights()[0]\n",
        "print(weights.shape) # shape: (vocab_size, embedding_dim)"
      ],
      "execution_count": null,
      "outputs": []
    },
    {
      "cell_type": "markdown",
      "metadata": {
        "id": "yzr6cUgE6j-s"
      },
      "source": [
        "Мы можем видеть, что это массив 10000х16, у нас есть 10 000 слов в нашем корпусе, и мы работаем в 16-мерном массиве. Чтобы визуализовать его, нам нужна вспомогательная функция, чтобы вернуть наш word_index обратно в слова. Функция `reverse_word_index` была определена выше.\n",
        "Запишем векторы и их метаданные в файлы.  TensorFlow Projector читает этот тип файла и использует его для построения векторов в трехмерном пространстве, чтобы мы могли их визуализировать.\n",
        "В файл векторов мы просто записываем значение каждого из элементов в массиве встраиваний, т.е. значение в каждом измерении вектора для этого слова. Для массива метаданных мы просто записываем соответствующие векторам слова."
      ]
    },
    {
      "cell_type": "code",
      "metadata": {
        "id": "jmB0Uxk0ycP6"
      },
      "source": [
        "import io\n",
        "\n",
        "out_v = io.open('vecs.tsv', 'w', encoding='utf-8')\n",
        "out_m = io.open('meta.tsv', 'w', encoding='utf-8')\n",
        "for word_num in range(1, vocab_size):\n",
        "  word = reverse_word_index[word_num]\n",
        "  embeddings = weights[word_num]\n",
        "  out_m.write(word + \"\\n\")\n",
        "  out_v.write('\\t'.join([str(x) for x in embeddings]) + \"\\n\")\n",
        "out_v.close()\n",
        "out_m.close()"
      ],
      "execution_count": null,
      "outputs": []
    },
    {
      "cell_type": "markdown",
      "metadata": {
        "id": "3SP8r0eF8uwH"
      },
      "source": [
        "Выгрузить эти файлы можно просто из навигатора, которое находится справа в меню \"files\", или при помощи кода ниже.\n",
        "Чтобы визуализировать результаты, перейдите в TensorFlow Embedded Projector [https://projector.tensorflow.org] и нажмите там кнопку «Load data» слева.\n",
        "Включите флажок 'sphereize data' в левом верхнем углу, и вы увидите двоичную кластеризацию данных. Экспериментируйте с поиском слов, или нажимайте на синие точки на диаграмме, представляющие слова."
      ]
    },
    {
      "cell_type": "code",
      "metadata": {
        "id": "VDeqpOCVydtq"
      },
      "source": [
        "\n",
        "\n",
        "try:\n",
        "  from google.colab import files\n",
        "except ImportError:\n",
        "  pass\n",
        "else:\n",
        "  files.download('vecs.tsv')\n",
        "  files.download('meta.tsv')"
      ],
      "execution_count": null,
      "outputs": []
    },
    {
      "cell_type": "code",
      "metadata": {
        "id": "YRxoxc2apscY"
      },
      "source": [
        "sentence = \"I really think this is amazing. honest.\"\n",
        "sequence = tokenizer.texts_to_sequences(sentence)\n",
        "print(sequence)"
      ],
      "execution_count": null,
      "outputs": []
    }
  ]
}