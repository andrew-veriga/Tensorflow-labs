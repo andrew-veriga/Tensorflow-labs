{
  "nbformat": 4,
  "nbformat_minor": 0,
  "metadata": {
    "colab": {
      "name": "Введение во временные ряды",
      "provenance": [],
      "collapsed_sections": [],
      "toc_visible": true,
      "include_colab_link": true
    },
    "kernelspec": {
      "name": "python3",
      "display_name": "Python 3"
    }
  },
  "cells": [
    {
      "cell_type": "markdown",
      "metadata": {
        "id": "view-in-github",
        "colab_type": "text"
      },
      "source": [
        "<a href=\"https://colab.research.google.com/github/andrew-veriga/Tensorflow-labs/blob/master/TimeSeriesIntro.ipynb\" target=\"_parent\"><img src=\"https://colab.research.google.com/assets/colab-badge.svg\" alt=\"Open In Colab\"/></a>"
      ]
    },
    {
      "cell_type": "markdown",
      "metadata": {
        "colab_type": "text",
        "id": "w_XJiOdr-MSM"
      },
      "source": [
        "###Этот блокнот содержит код для лекции с небольшими дополнениями"
      ]
    },
    {
      "cell_type": "markdown",
      "metadata": {
        "colab_type": "text",
        "id": "vidayERjaO5q"
      },
      "source": [
        "# Setup\n",
        "Начнем с запуска ячеек, содержащих импорт..."
      ]
    },
    {
      "cell_type": "code",
      "metadata": {
        "colab_type": "code",
        "id": "gqWabzlJ63nL",
        "colab": {}
      },
      "source": [
        "import numpy as np\n",
        "import matplotlib.pyplot as plt\n",
        "import tensorflow as tf\n",
        "from tensorflow import keras"
      ],
      "execution_count": 0,
      "outputs": []
    },
    {
      "cell_type": "markdown",
      "metadata": {
        "colab_type": "text",
        "id": "yVo6CcpRaW7u"
      },
      "source": [
        "# Тренд и сезонность\n",
        "... а также несколько вспомогательных функций."
      ]
    },
    {
      "cell_type": "markdown",
      "metadata": {
        "id": "t_Lq3egPlnbL",
        "colab_type": "text"
      },
      "source": [
        "Одна выводит графики рядов"
      ]
    },
    {
      "cell_type": "code",
      "metadata": {
        "colab_type": "code",
        "id": "sJwA96JU00pW",
        "colab": {}
      },
      "source": [
        "\n",
        "def plot_series(time, series, format=\"-\", start=0, end=None, label=None):\n",
        "    plt.plot(time[start:end], series[start:end], format, label=label)\n",
        "    plt.xlabel(\"Time\")\n",
        "    plt.ylabel(\"Value\")\n",
        "    if label:\n",
        "        plt.legend(fontsize=14)\n",
        "    plt.grid(True)"
      ],
      "execution_count": 0,
      "outputs": []
    },
    {
      "cell_type": "markdown",
      "metadata": {
        "id": "GTpli_zjl0ty",
        "colab_type": "text"
      },
      "source": [
        "а другая возвращает тренд"
      ]
    },
    {
      "cell_type": "code",
      "metadata": {
        "colab_type": "code",
        "id": "t30Ts2KjiOIY",
        "colab": {}
      },
      "source": [
        "def trend(time, slope=0):\n",
        "    return slope * time"
      ],
      "execution_count": 0,
      "outputs": []
    },
    {
      "cell_type": "markdown",
      "metadata": {
        "colab_type": "text",
        "id": "iJjc3G1Maefn"
      },
      "source": [
        "Давайте создадим временные ряды, которые имеют **восходящий тренд**, или, другими словами, тенденцию к возрастанию:"
      ]
    },
    {
      "cell_type": "code",
      "metadata": {
        "colab_type": "code",
        "id": "BLt-pLiZ0nfB",
        "colab": {}
      },
      "source": [
        "time = np.arange(4 * 365 + 1)\n",
        "baseline = 10\n",
        "series = trend(time, 0.1)\n",
        "\n",
        "plt.figure(figsize=(10, 6))\n",
        "plot_series(time, series)\n",
        "plt.show()"
      ],
      "execution_count": 0,
      "outputs": []
    },
    {
      "cell_type": "markdown",
      "metadata": {
        "id": "OQ3eaeNCqrOi",
        "colab_type": "text"
      },
      "source": [
        "Хотя это прямая линия, это также пример временного ряда. Здесь ось x - это время, а y - значение функции на этом шаге времени."
      ]
    },
    {
      "cell_type": "markdown",
      "metadata": {
        "colab_type": "text",
        "id": "WKD4nh9sauBf"
      },
      "source": [
        " \n",
        "Теперь давайте сгенерируем временной ряд с сезонным паттерном. \n",
        "Первая функция задает сезонный шаблон, а вторая использует этот шаблон для генерации временного ряда с **сезонностью**."
      ]
    },
    {
      "cell_type": "code",
      "metadata": {
        "colab_type": "code",
        "id": "89gdEnPY1Niy",
        "colab": {}
      },
      "source": [
        "def seasonal_pattern(season_time):\n",
        "    \"\"\"Just an arbitrary pattern, you can change it if you wish\"\"\"\n",
        "    return np.where(season_time < 0.4,\n",
        "                    np.cos(season_time * 2 * np.pi),\n",
        "                    1 / np.exp(3 * season_time))\n",
        "\n",
        "def seasonality(time, period, amplitude=1, phase=0):\n",
        "    \"\"\"Repeats the same pattern at each period\"\"\"\n",
        "    season_time = ((time + phase) % period) / period\n",
        "    return amplitude * seasonal_pattern(season_time)"
      ],
      "execution_count": 0,
      "outputs": []
    },
    {
      "cell_type": "code",
      "metadata": {
        "colab_type": "code",
        "id": "7kaNezUk1S9l",
        "colab": {}
      },
      "source": [
        "amplitude = 40\n",
        "series = seasonality(time, period=365, amplitude=amplitude)\n",
        "\n",
        "plt.figure(figsize=(10, 6))\n",
        "plot_series(time, series)\n",
        "plt.show()"
      ],
      "execution_count": 0,
      "outputs": []
    },
    {
      "cell_type": "markdown",
      "metadata": {
        "id": "JzazsdP5tRs2",
        "colab_type": "text"
      },
      "source": [
        "Здесь хорошо видны четкие пики и впадины. Но в дополнение к ним, есть другие регулярные всплески, или, как их принято называть в сериях - **спайки**. Это можно рассматривать как грубое моделирование сезонных изменений. Например, может быть, прибыль для магазина будет отрицательной в тот день, когда магазин закрыт, немного увеличиваясь на следующий день, падая в течение недели, а затем снова показывать спайк в выходной день. "
      ]
    },
    {
      "cell_type": "markdown",
      "metadata": {
        "id": "1BU76y0fvNRb",
        "colab_type": "text"
      },
      "source": [
        "Что если мы добавим к этому тренд, чтобы сезонные данные, продолжая следовать этой схеме, со временем увеличивались? Возможно, этот тренд имитирует растущий бизнес, поэтому, построив его, мы увидим ту же модель, но с общим восходящим трендом."
      ]
    },
    {
      "cell_type": "code",
      "metadata": {
        "colab_type": "code",
        "id": "AyqFdaIN1oy5",
        "colab": {}
      },
      "source": [
        "baseline = 10\n",
        "slope = 0.05\n",
        "series = baseline + trend(time, slope) + seasonality(time, period=365, amplitude=amplitude)\n",
        "\n",
        "plt.figure(figsize=(10, 6))\n",
        "plot_series(time, series)\n",
        "plt.show()"
      ],
      "execution_count": 0,
      "outputs": []
    },
    {
      "cell_type": "markdown",
      "metadata": {
        "colab_type": "text",
        "id": "-Vo433h0bDLD"
      },
      "source": [
        "Добавим еще одну особенность, которая часто встречается во временных рядах:"
      ]
    },
    {
      "cell_type": "markdown",
      "metadata": {
        "colab_type": "text",
        "id": "YVdJ2jNN8OHk"
      },
      "source": [
        "# Шум"
      ]
    },
    {
      "cell_type": "markdown",
      "metadata": {
        "colab_type": "text",
        "id": "V4taP424sces"
      },
      "source": [
        "На практике мало какие реальные временные ряды имеют такой чистый сигнал. Они обычно имеют некоторый шум, и отношение сигнал / шум иногда может быть очень низким. Давайте сгенерируем белый шум:"
      ]
    },
    {
      "cell_type": "markdown",
      "metadata": {
        "id": "OEJ4mDWxNQiB",
        "colab_type": "text"
      },
      "source": [
        "Вот функция, которая добавляет некоторый шум в ряд:"
      ]
    },
    {
      "cell_type": "code",
      "metadata": {
        "colab_type": "code",
        "id": "3kD3_zjVscBH",
        "colab": {}
      },
      "source": [
        "def white_noise(time, noise_level=1, seed=None):\n",
        "    rnd = np.random.RandomState(seed)\n",
        "    return rnd.randn(len(time)) * noise_level"
      ],
      "execution_count": 0,
      "outputs": []
    },
    {
      "cell_type": "code",
      "metadata": {
        "colab_type": "code",
        "id": "aLvBwrKrtDzo",
        "colab": {}
      },
      "source": [
        "noise_level = 5\n",
        "noise = white_noise(time, noise_level, seed=42)\n",
        "\n",
        "plt.figure(figsize=(10, 6))\n",
        "plot_series(time, noise)\n",
        "plt.show()"
      ],
      "execution_count": 0,
      "outputs": []
    },
    {
      "cell_type": "markdown",
      "metadata": {
        "id": "7SKw4bIANYeO",
        "colab_type": "text"
      },
      "source": [
        "сложим почленно наш временной ряд с полученным массивом белого шума, и получаем очень шумный ряд той же сезонности."
      ]
    },
    {
      "cell_type": "code",
      "metadata": {
        "colab_type": "code",
        "id": "2bRDx8K816N9",
        "colab": {}
      },
      "source": [
        "series += noise\n",
        "\n",
        "plt.figure(figsize=(10, 6))\n",
        "plot_series(time, series)\n",
        "plt.show()"
      ],
      "execution_count": 0,
      "outputs": []
    },
    {
      "cell_type": "markdown",
      "metadata": {
        "colab_type": "text",
        "id": "a1sQpPjhtj0G"
      },
      "source": [
        "Хорошо, пока он выглядит достаточно реалистично. \n",
        "Это интересно, потому что в этот момент человеческий глаз может пропустить много сезонных данных, но, надеюсь, компьютер сможет их обнаружить.\n"
      ]
    },
    {
      "cell_type": "markdown",
      "metadata": {
        "id": "iFMRz7ANokgK",
        "colab_type": "text"
      },
      "source": [
        "Далее мы немного поговорим о автокорреляции, и сначала приведем пару функций:\n",
        "Это две разные функции автокорреляции, и выведем графики обеих, чтобы увидеть эффекты каждой из них."
      ]
    },
    {
      "cell_type": "code",
      "metadata": {
        "colab_type": "code",
        "id": "GICxGswL2aqK",
        "colab": {}
      },
      "source": [
        "def autocorrelation(time, amplitude, seed=None):\n",
        "    rnd = np.random.RandomState(seed)\n",
        "    φ1 = 0.5\n",
        "    φ2 = -0.1\n",
        "    ar = rnd.randn(len(time) + 50)\n",
        "    ar[:50] = 100\n",
        "    for step in range(50, len(time) + 50):\n",
        "        ar[step] += φ1 * ar[step - 50]\n",
        "        ar[step] += φ2 * ar[step - 33]\n",
        "    return ar[50:] * amplitude"
      ],
      "execution_count": 0,
      "outputs": []
    },
    {
      "cell_type": "markdown",
      "metadata": {
        "id": "dR1IPMy6PcAG",
        "colab_type": "text"
      },
      "source": [
        "И здесь мы добавляем автокорреляцию в серию и строим ее."
      ]
    },
    {
      "cell_type": "code",
      "metadata": {
        "colab_type": "code",
        "id": "LLL03RtPhswk",
        "colab": {}
      },
      "source": [
        "series = autocorrelation(time, 10, seed=42)\n",
        "plot_series(time[:200], series[:200])\n",
        "plt.show()"
      ],
      "execution_count": 0,
      "outputs": []
    },
    {
      "cell_type": "markdown",
      "metadata": {
        "id": "tH0E_byoswxy",
        "colab_type": "text"
      },
      "source": [
        "Эта автокорелляция особенно интересна, потому что тут можно увидеть один и тот же паттерн, повторяющийся в разных масштабах. То есть некий рисунок, затем резкое падение, потом тот же самый рисунок в меньшем масштабе с тем же самым падением, которое затем сокращается и т.д."
      ]
    },
    {
      "cell_type": "markdown",
      "metadata": {
        "id": "ei4n4dUNh2pf",
        "colab_type": "text"
      },
      "source": [
        "Изменим автокорреляцию и снова запустим ее, мы увидим другую функцию."
      ]
    },
    {
      "cell_type": "code",
      "metadata": {
        "colab_type": "code",
        "id": "mCaWIWoDGVCL",
        "colab": {}
      },
      "source": [
        "def autocorrelation(time, amplitude, seed=None):\n",
        "    rnd = np.random.RandomState(seed)\n",
        "    φ = 0.8\n",
        "    ar = rnd.randn(len(time) + 1)\n",
        "    for step in range(1, len(time) + 1):\n",
        "        ar[step] += φ * ar[step - 1]\n",
        "    return ar[1:] * amplitude"
      ],
      "execution_count": 0,
      "outputs": []
    },
    {
      "cell_type": "code",
      "metadata": {
        "colab_type": "code",
        "id": "MVM204K66bnC",
        "colab": {}
      },
      "source": [
        "series = autocorrelation(time, 10, seed=42)\n",
        "plot_series(time[:200], series[:200])\n",
        "plt.show()"
      ],
      "execution_count": 0,
      "outputs": []
    },
    {
      "cell_type": "markdown",
      "metadata": {
        "id": "lGMXCqlYM_4N",
        "colab_type": "text"
      },
      "source": [
        "Теперь добавим сезонные колебания и тренд:"
      ]
    },
    {
      "cell_type": "code",
      "metadata": {
        "colab_type": "code",
        "id": "hqx5et9Bzp5e",
        "colab": {}
      },
      "source": [
        "series = autocorrelation(time, 10, seed=42) + seasonality(time, period=50, amplitude=150) + trend(time, 2)\n",
        "plot_series(time[:200], series[:200])\n",
        "plt.show()"
      ],
      "execution_count": 0,
      "outputs": []
    },
    {
      "cell_type": "markdown",
      "metadata": {
        "id": "ujeGWIwEtM6_",
        "colab_type": "text"
      },
      "source": [
        "Теперь давайте сложим их, чтобы имитировать сезонные временные ряды, которые оказывают влияние, полное событий, которые все меняют. Например, это может быть финансовый ряд, показывающий сезонность, но затем что-то меняется, например, провал бизнеса или какие-то большие новости."
      ]
    },
    {
      "cell_type": "code",
      "metadata": {
        "colab_type": "code",
        "id": "qb5echI7rHqA",
        "colab": {}
      },
      "source": [
        "series = autocorrelation(time, 10, seed=42) + seasonality(time, period=50, amplitude=150) + trend(time, 2)\n",
        "series2 = autocorrelation(time, 5, seed=42) + seasonality(time, period=50, amplitude=2) + trend(time, -1) + 550\n",
        "series[200:] = series2[200:]\n",
        "#series += noise(time, 30)\n",
        "plot_series(time[:300], series[:300])\n",
        "plt.show()"
      ],
      "execution_count": 0,
      "outputs": []
    },
    {
      "cell_type": "markdown",
      "metadata": {
        "id": "pNKnccXDt53M",
        "colab_type": "text"
      },
      "source": [
        "Теперь добавим некоторые импульсы и построим их. Ничего особенного здесь пока нет."
      ]
    },
    {
      "cell_type": "code",
      "metadata": {
        "colab_type": "code",
        "id": "iBfpCbu6jsaB",
        "colab": {}
      },
      "source": [
        "def impulses(time, num_impulses, amplitude=1, seed=None):\n",
        "    rnd = np.random.RandomState(seed)\n",
        "    impulse_indices = rnd.randint(len(time), size=10)\n",
        "    series = np.zeros(len(time))\n",
        "    for index in impulse_indices:\n",
        "        series[index] += rnd.rand() * amplitude\n",
        "    return series    "
      ],
      "execution_count": 0,
      "outputs": []
    },
    {
      "cell_type": "code",
      "metadata": {
        "colab_type": "code",
        "id": "BJ1kXWNLg_BD",
        "colab": {}
      },
      "source": [
        "series = impulses(time, 10, seed=42)\n",
        "plot_series(time, series)\n",
        "plt.show()"
      ],
      "execution_count": 0,
      "outputs": []
    },
    {
      "cell_type": "markdown",
      "metadata": {
        "id": "Qt9MEI-GuEbD",
        "colab_type": "text"
      },
      "source": [
        "Но если добавить некоторые автокорреляции к этим импульсам,  мы увидим некоторые поведения, которые мы обсуждали ранее, когда после импульса происходит затухание, но затухание может быть прервано другим импульсом."
      ]
    },
    {
      "cell_type": "code",
      "metadata": {
        "colab_type": "code",
        "id": "uvMAqSatkcyX",
        "colab": {}
      },
      "source": [
        "def autocorrelation(source, φs):\n",
        "    ar = source.copy()\n",
        "    max_lag = len(φs)\n",
        "    for step, value in enumerate(source):\n",
        "        for lag, φ in φs.items():\n",
        "            if step - lag > 0:\n",
        "              ar[step] += φ * ar[step - lag]\n",
        "    return ar"
      ],
      "execution_count": 0,
      "outputs": []
    },
    {
      "cell_type": "code",
      "metadata": {
        "colab_type": "code",
        "id": "iUv8l8nchJRZ",
        "colab": {}
      },
      "source": [
        "signal = impulses(time, 10, seed=42)\n",
        "series = autocorrelation(signal, {1: 0.99})\n",
        "plot_series(time, series)\n",
        "plt.plot(time, signal, \"k-\")\n",
        "plt.show()"
      ],
      "execution_count": 0,
      "outputs": []
    },
    {
      "cell_type": "markdown",
      "metadata": {
        "id": "cKQNAZCquqTd",
        "colab_type": "text"
      },
      "source": [
        "Это затухание может быть автокоррелировано так, что после импульса оно затухает, но затем затухание автокоррелирует. Итак, у нас есть такие убывающие кривые:"
      ]
    },
    {
      "cell_type": "code",
      "metadata": {
        "colab_type": "code",
        "id": "5_lx-AlWhT5v",
        "colab": {}
      },
      "source": [
        "signal = impulses(time, 10, seed=42)\n",
        "series = autocorrelation(signal, {1: 0.70, 50: 0.2})\n",
        "plot_series(time, series)\n",
        "plt.plot(time, signal, \"k-\")\n",
        "plt.show()"
      ],
      "execution_count": 0,
      "outputs": []
    },
    {
      "cell_type": "markdown",
      "metadata": {
        "id": "_BLRnQ_ZvBGZ",
        "colab_type": "text"
      },
      "source": [
        "Надеемся, что это исследование некоторых синтетических данных, показавшее некоторые атрибуты временных рядов, помогло вам понять некоторые термины. Нодобные синтетические данные очень полезны, если вы хотите научиться использовать машинное обучение для понимания и прогнозирования данных. На следующем уроке вы сделаете первые шаги к прогнозированию следующих значений в синтетической серии, а затем начнете применять полученные знания к реальным данным."
      ]
    },
    {
      "cell_type": "markdown",
      "metadata": {
        "id": "PTPZh6RUwSXh",
        "colab_type": "text"
      },
      "source": [
        "Не теряйте этот ноутбук, отсюда всегда можно будет скопировать некоторые полезные приемы. Полезно будет пройти его еще раз и поиграть с цифрами, чтобы увидеть, как отражаются эти изменения на графиках."
      ]
    },
    {
      "cell_type": "code",
      "metadata": {
        "id": "XTU_sdNrwWeZ",
        "colab_type": "code",
        "colab": {}
      },
      "source": [
        ""
      ],
      "execution_count": 0,
      "outputs": []
    }
  ]
}