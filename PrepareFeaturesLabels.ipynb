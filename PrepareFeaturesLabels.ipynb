{
  "nbformat": 4,
  "nbformat_minor": 0,
  "metadata": {
    "accelerator": "GPU",
    "colab": {
      "name": "Подготовка признак-векторов и меток",
      "provenance": [],
      "collapsed_sections": [],
      "toc_visible": true,
      "include_colab_link": true
    },
    "kernelspec": {
      "display_name": "Python 3",
      "name": "python3"
    }
  },
  "cells": [
    {
      "cell_type": "markdown",
      "metadata": {
        "id": "view-in-github",
        "colab_type": "text"
      },
      "source": [
        "<a href=\"https://colab.research.google.com/github/andrew-veriga/Tensorflow-labs/blob/master/PrepareFeaturesLabels.ipynb\" target=\"_parent\"><img src=\"https://colab.research.google.com/assets/colab-badge.svg\" alt=\"Open In Colab\"/></a>"
      ]
    },
    {
      "cell_type": "markdown",
      "metadata": {
        "id": "DmLEmOfj2kXW",
        "colab_type": "text"
      },
      "source": [
        "###Setup"
      ]
    },
    {
      "cell_type": "code",
      "metadata": {
        "colab_type": "code",
        "id": "s6eq-RBcQ_Zr",
        "colab": {}
      },
      "source": [
        "try:\n",
        "  # %tensorflow_version only exists in Colab.\n",
        "  %tensorflow_version 2.x\n",
        "except Exception:\n",
        "  pass"
      ],
      "execution_count": 0,
      "outputs": []
    },
    {
      "cell_type": "markdown",
      "metadata": {
        "id": "1tS-TGjQ2olm",
        "colab_type": "text"
      },
      "source": [
        "подключаем знакомые нам `tensorflow`, `numpy` и библиотеку рисования графиков "
      ]
    },
    {
      "cell_type": "code",
      "metadata": {
        "colab_type": "code",
        "id": "BOjujz601HcS",
        "colab": {
          "base_uri": "https://localhost:8080/",
          "height": 34
        },
        "outputId": "b4933cc9-d376-48c8-8610-c75816cb4eeb"
      },
      "source": [
        "import tensorflow as tf\n",
        "import numpy as np\n",
        "import matplotlib.pyplot as plt\n",
        "print(tf.__version__)"
      ],
      "execution_count": 2,
      "outputs": [
        {
          "output_type": "stream",
          "text": [
            "2.2.0-rc2\n"
          ],
          "name": "stdout"
        }
      ]
    },
    {
      "cell_type": "markdown",
      "metadata": {
        "id": "dPW9_GQz3C9-",
        "colab_type": "text"
      },
      "source": [
        "используем здесь класс `tf.data.Dataset`, и чтобы создать себе некоторые данные, сделаем диапазон из 10 последовательных чисел. Будет удобно контролировать правильность наших действий, зная, что эти ряды должны равномерно возрастать. В реальных рядах такого удобства не будет, поэтому лучше заранее всё отладить на понятных числах."
      ]
    },
    {
      "cell_type": "code",
      "metadata": {
        "colab_type": "code",
        "id": "asEdslR_05O_",
        "colab": {
          "base_uri": "https://localhost:8080/",
          "height": 204
        },
        "outputId": "dd840e85-641a-457a-c8d6-51ca8d32522e"
      },
      "source": [
        "dataset = tf.data.Dataset.range(10)\n",
        "for val in dataset:\n",
        "   print(val.numpy())\n"
      ],
      "execution_count": 4,
      "outputs": [
        {
          "output_type": "stream",
          "text": [
            "0\n",
            "1\n",
            "2\n",
            "3\n",
            "4\n",
            "5\n",
            "6\n",
            "7\n",
            "8\n",
            "9\n"
          ],
          "name": "stdout"
        },
        {
          "output_type": "execute_result",
          "data": {
            "text/plain": [
              "<RangeDataset shapes: (), types: tf.int64>"
            ]
          },
          "metadata": {
            "tags": []
          },
          "execution_count": 4
        }
      ]
    },
    {
      "cell_type": "markdown",
      "metadata": {
        "id": "MvX8_7cG4HAN",
        "colab_type": "text"
      },
      "source": [
        "Итак, теперь сделаем это немного интереснее. Мы будем использовать `dataset.window`, чтобы расширить наш набор данных с помощью сдвигающегося окна. Первый параметр `size` указывает размер окна, параметр `stride` указывает шаг, с которым отбираются значения, а `shift` - величину сдвига окна. Чтобы хорошо понять, как всё это работает, поэкспериментируйте с этими параметрами функции `window` поменяйте их в разных сочетаниях и посмотрите, что получится.\\\n",
        "*один фрагмент, выделенный окном в этом примере, выводится как горизонтальный ряд чисел, весь полученный набор должен выглядеть как стопка горизонтальных массивов*"
      ]
    },
    {
      "cell_type": "code",
      "metadata": {
        "colab_type": "code",
        "id": "Lrv_ghSt1lgQ",
        "colab": {
          "base_uri": "https://localhost:8080/",
          "height": 187
        },
        "outputId": "3613dde4-e671-4fa8-ce35-a8ca44d13931"
      },
      "source": [
        "dataset = tf.data.Dataset.range(10)\n",
        "dataset = dataset.window(5, stride=1,shift=1)\n",
        "for window_dataset in dataset:\n",
        "  for val in window_dataset:\n",
        "    print(val.numpy(), end=\" \")\n",
        "  print()"
      ],
      "execution_count": 34,
      "outputs": [
        {
          "output_type": "stream",
          "text": [
            "0 2 4 6 8 \n",
            "1 3 5 7 9 \n",
            "2 4 6 8 \n",
            "3 5 7 9 \n",
            "4 6 8 \n",
            "5 7 9 \n",
            "6 8 \n",
            "7 9 \n",
            "8 \n",
            "9 \n"
          ],
          "name": "stdout"
        }
      ]
    },
    {
      "cell_type": "markdown",
      "metadata": {
        "id": "JpVisGIo6KHi",
        "colab_type": "text"
      },
      "source": [
        "Мы получили выходные данные первых пяти элементов, а затем вторых пяти элементов, а затем третьих пяти элементов и т. д. В конце набора данных, когда данных недостаточно, чтобы дать нам пять элементов, вы увидите более короткие строки. Но это не то, что нужно, ведь все признак-векторы должны быть одинаковой длины.\\\n",
        "Чтобы отбросить фрагменты с недостаточным количеством значений, мы установим параметр `drop_reminder` в значение true.\n"
      ]
    },
    {
      "cell_type": "code",
      "metadata": {
        "colab_type": "code",
        "id": "QLEq6MG-2DN2",
        "colab": {
          "base_uri": "https://localhost:8080/",
          "height": 119
        },
        "outputId": "e3535398-25e6-42c9-f4e1-ac3dbaf8fdc2"
      },
      "source": [
        "dataset = tf.data.Dataset.range(10)\n",
        "dataset = dataset.window(5, shift=1, drop_remainder=True)\n",
        "for window_dataset in dataset:\n",
        "  for val in window_dataset:\n",
        "    print(val.numpy(), end=\" \")\n",
        "  print()"
      ],
      "execution_count": 36,
      "outputs": [
        {
          "output_type": "stream",
          "text": [
            "0 1 2 3 4 \n",
            "1 2 3 4 5 \n",
            "2 3 4 5 6 \n",
            "3 4 5 6 7 \n",
            "4 5 6 7 8 \n",
            "5 6 7 8 9 \n"
          ],
          "name": "stdout"
        }
      ]
    },
    {
      "cell_type": "markdown",
      "metadata": {
        "id": "jiXusHSEE8pZ",
        "colab_type": "text"
      },
      "source": [
        "Теперь давайте поместим эти данные в списки, чтобы можно было начать использовать их в машинном обучении.\\\n",
        "`TensorFlow` любит, чтобы его данные были в формате `numpy`.\\\n",
        " Ну, мы можем легко преобразовать его, вызвав метод `.numpy()`, и когда распечатаем его, увидим, что он теперь указан в квадратных скобках."
      ]
    },
    {
      "cell_type": "code",
      "metadata": {
        "colab_type": "code",
        "id": "PJ9CAHlJ2ODe",
        "colab": {
          "base_uri": "https://localhost:8080/",
          "height": 119
        },
        "outputId": "84f01d55-a893-485e-adb4-80c1b2fd712f"
      },
      "source": [
        "dataset = tf.data.Dataset.range(10)\n",
        "dataset = dataset.window(5, shift=1, drop_remainder=True)\n",
        "dataset = dataset.flat_map(lambda w: w.batch(5))\n",
        "for w in dataset:\n",
        "  print(w.numpy())\n"
      ],
      "execution_count": 57,
      "outputs": [
        {
          "output_type": "stream",
          "text": [
            "[0 1 2 3 4]\n",
            "[1 2 3 4 5]\n",
            "[2 3 4 5 6]\n",
            "[3 4 5 6 7]\n",
            "[4 5 6 7 8]\n",
            "[5 6 7 8 9]\n"
          ],
          "name": "stdout"
        }
      ]
    },
    {
      "cell_type": "markdown",
      "metadata": {
        "id": "Yj-fZc1zNKzW",
        "colab_type": "text"
      },
      "source": [
        "Хорошо, теперь нам надо разделить данные на признак-векторы и метки. В каждом элементе надо для признак-вектора оставить все значения, кроме последнего, которое будет меткой. И это может быть достигнуто с помощью функции `map()`"
      ]
    },
    {
      "cell_type": "code",
      "metadata": {
        "colab_type": "code",
        "id": "DryEZ2Mz2nNV",
        "colab": {
          "base_uri": "https://localhost:8080/",
          "height": 119
        },
        "outputId": "3c26a2cf-ac88-4219-f435-6ab1d59bc5dd"
      },
      "source": [
        "dataset = tf.data.Dataset.range(10)\n",
        "dataset = dataset.window(5, shift=1, drop_remainder=True)\n",
        "dataset = dataset.flat_map(lambda window: window.batch(5))\n",
        "# мы разбиваем каждый массив на две части: \n",
        "# первая содержит все элементы кроме последнего: [:-1], а вторая содержит только последний элемент: [-1:]\n",
        "dataset = dataset.map(lambda window: (window[:-1], window[-1:]))\n",
        "for x,y in dataset:\n",
        "  print(x.numpy(), y.numpy())"
      ],
      "execution_count": 59,
      "outputs": [
        {
          "output_type": "stream",
          "text": [
            "[0 1 2 3] [4]\n",
            "[1 2 3 4] [5]\n",
            "[2 3 4 5] [6]\n",
            "[3 4 5 6] [7]\n",
            "[4 5 6 7] [8]\n",
            "[5 6 7 8] [9]\n"
          ],
          "name": "stdout"
        }
      ]
    },
    {
      "cell_type": "markdown",
      "metadata": {
        "id": "AIcAJn3EO2Wy",
        "colab_type": "text"
      },
      "source": [
        "и теперь наш набор данных выглядит как хороший набор признаков и меток.\\\n",
        "И осталось только перемешать его. Это поможет нам избежать предвзятости в  последовательности. \\\n",
        "И это возможно с помощью метода `.shuffle()`. Мы вызовем его с параметром `buffer_size=10`, потому что это то максимальное количество строк, которые у нас могут быть.\\\n",
        "Многократные прогоны покажут строки в разной последовательности, потому что они перемешиваются случайным образом."
      ]
    },
    {
      "cell_type": "code",
      "metadata": {
        "colab_type": "code",
        "id": "1tl-0BOKkEtk",
        "colab": {
          "base_uri": "https://localhost:8080/",
          "height": 119
        },
        "outputId": "02ba40af-a327-4726-c7f7-2f64290e2fdd"
      },
      "source": [
        "dataset = tf.data.Dataset.range(10)\n",
        "dataset = dataset.window(5, shift=1, drop_remainder=True)\n",
        "dataset = dataset.flat_map(lambda w: w.batch(5))\n",
        "dataset = dataset.map(lambda w: (w[:-1], w[-1:]))\n",
        "dataset = dataset.shuffle(buffer_size=10)\n",
        "for x,y in dataset:\n",
        "  print(x.numpy(), y.numpy())"
      ],
      "execution_count": 69,
      "outputs": [
        {
          "output_type": "stream",
          "text": [
            "[1 2 3 4] [5]\n",
            "[5 6 7 8] [9]\n",
            "[2 3 4 5] [6]\n",
            "[3 4 5 6] [7]\n",
            "[4 5 6 7] [8]\n",
            "[0 1 2 3] [4]\n"
          ],
          "name": "stdout"
        }
      ]
    },
    {
      "cell_type": "markdown",
      "metadata": {
        "id": "WINOHQFKSVPE",
        "colab_type": "text"
      },
      "source": [
        "Наконец, пакетирование данных. и это делается с помощью метода `.batch()'.\\\n",
        "Устанавливая размер пакета в 2, мы объединим наши данные  по два x и два y вместе. Ранее мы не пользовались таким разбиением данных на пакеты, keras все делал за нас, если это было нужно. Но теперь попробуем другой подход"
      ]
    },
    {
      "cell_type": "code",
      "metadata": {
        "colab_type": "code",
        "id": "Wa0PNwxMGapy",
        "colab": {
          "base_uri": "https://localhost:8080/",
          "height": 221
        },
        "outputId": "86d8c00b-3c3c-4391-a509-16165699c983"
      },
      "source": [
        "dataset = tf.data.Dataset.range(10)\n",
        "dataset = dataset.window(5, shift=1, drop_remainder=True)\n",
        "dataset = dataset.flat_map(lambda w: w.batch(5))\n",
        "dataset = dataset.map(lambda w: (w[:-1], w[-1:]))\n",
        "dataset = dataset.shuffle(buffer_size=10)\n",
        "dataset = dataset.batch(2).prefetch(1)\n",
        "for x,y in dataset:\n",
        "  print(\"x = \", x.numpy())\n",
        "  print(\"y = \", y.numpy())\n"
      ],
      "execution_count": 73,
      "outputs": [
        {
          "output_type": "stream",
          "text": [
            "x =  [[2 3 4 5]\n",
            " [1 2 3 4]]\n",
            "y =  [[6]\n",
            " [5]]\n",
            "x =  [[0 1 2 3]\n",
            " [4 5 6 7]]\n",
            "y =  [[4]\n",
            " [8]]\n",
            "x =  [[5 6 7 8]\n",
            " [3 4 5 6]]\n",
            "y =  [[9]\n",
            " [7]]\n"
          ],
          "name": "stdout"
        }
      ]
    },
    {
      "cell_type": "markdown",
      "metadata": {
        "id": "CbiyF4gaUn2I",
        "colab_type": "text"
      },
      "source": [
        "Итак, это рабочая книга с кодом, который разбивает ряд данных на окна. Попробуйте поиграть с данными, сделайте в последней ячейке изменения параметров в тех методах, которые вам показались непонятными и как только вы ознакомитесь с тем, что он делает, переходите к следующей главе.\n",
        "Там вы увидите сезонный набор данных, и с помощью этой техники сдвигающегося окна вы увидите, как получить из него x и y, которые можно подавать в нейронную сеть и посмотреть, как она работает с прогнозированием."
      ]
    },
    {
      "cell_type": "code",
      "metadata": {
        "id": "ezS6PRYQVqE3",
        "colab_type": "code",
        "colab": {}
      },
      "source": [
        ""
      ],
      "execution_count": 0,
      "outputs": []
    }
  ]
}