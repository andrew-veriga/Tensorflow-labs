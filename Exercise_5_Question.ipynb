{
  "nbformat": 4,
  "nbformat_minor": 0,
  "metadata": {
    "colab": {
      "name": "Exercise 5 - Question.ipynb",
      "provenance": [],
      "collapsed_sections": []
    },
    "kernelspec": {
      "name": "python3",
      "display_name": "Python 3"
    },
    "accelerator": "GPU"
  },
  "cells": [
    {
      "cell_type": "markdown",
      "metadata": {
        "id": "GFYcyMy_y5Mw",
        "colab_type": "text"
      },
      "source": [
        "В этом упражнении вы будете тренировать CNN в наборе данных FULL Cats-v-dogs\n",
        "От вас потребуется некоторая предварительная обработка, потому что\n",
        "набор данных не разделен на обучение и проверку."
      ]
    },
    {
      "cell_type": "code",
      "metadata": {
        "id": "dn-6c02VmqiN",
        "colab_type": "code",
        "colab": {}
      },
      "source": [
        "# В этом блоке кода находятся все необходимые импорты\n",
        "import os\n",
        "import zipfile\n",
        "import random\n",
        "import tensorflow as tf\n",
        "from tensorflow.keras.optimizers import RMSprop\n",
        "from tensorflow.keras.preprocessing.image import ImageDataGenerator\n",
        "from shutil import copyfile"
      ],
      "execution_count": 0,
      "outputs": []
    },
    {
      "cell_type": "markdown",
      "metadata": {
        "id": "vz_Nu7GI0TWY",
        "colab_type": "text"
      },
      "source": [
        "Сначала надо получить данные."
      ]
    },
    {
      "cell_type": "code",
      "metadata": {
        "id": "3sd9dQWa23aj",
        "colab_type": "code",
        "colab": {}
      },
      "source": [
        "# Этот блок кода загружает полный набор фотографий кошек и собак и сохраняет его как\n",
        "# cats-and-dogs.zip. Затем он распаковывает его в /tmp.\n",
        "# Будет создан каталог tmp/PetImages, содержащий подкаталоги\n",
        "# под названием 'Cat' и 'Dog'.\n",
        "# Если URL не работает,\n",
        "# зайдите на https://www.microsoft.com/en-us/download/confirmation.aspx?id\\u003d54765\n",
        "\n",
        "\n",
        "!wget --no-check-certificate \\\n",
        "    \"https://download.microsoft.com/download/3/E/1/3E1C3F21-ECDB-4869-8368-6DEBA77B919F/kagglecatsanddogs_3367a.zip\" \\\n",
        "    -O \"/tmp/cats-and-dogs.zip\"\n",
        "\n",
        "local_zip = '/tmp/cats-and-dogs.zip'\n",
        "zip_ref = zipfile.ZipFile(local_zip, 'r')\n",
        "zip_ref.extractall('/tmp')\n",
        "zip_ref.close()\n"
      ],
      "execution_count": 0,
      "outputs": []
    },
    {
      "cell_type": "markdown",
      "metadata": {
        "id": "WEKqPrCZ39I0",
        "colab_type": "text"
      },
      "source": [
        "Проверьте, все ли получилось"
      ]
    },
    {
      "cell_type": "code",
      "metadata": {
        "id": "gi3yD62a6X3S",
        "colab_type": "code",
        "colab": {}
      },
      "source": [
        "print(len(os.listdir('/tmp/PetImages/Cat/')))\n",
        "print(len(os.listdir('/tmp/PetImages/Dog/')))\n",
        "\n",
        "# Вывод должен быть примерно такой:\n",
        "# 12501\n",
        "# 12501"
      ],
      "execution_count": 0,
      "outputs": []
    },
    {
      "cell_type": "code",
      "metadata": {
        "id": "F-QkLjxpmyK2",
        "colab_type": "code",
        "colab": {}
      },
      "source": [
        "# Используйте функцию os.mkdir чтобы создавать каталоги\n",
        "# Вам понадобится каталог cats-v-dogs и в нем подкаталоги: training и testing. \n",
        "# В каждом из этих подкаталогов надо будет создать два подкаталога: cats и dogs\n",
        "try:\n",
        "    #ЗДЕСЬ БУДЕТ ВАШ КОД\n",
        "except OSError:\n",
        "    pass"
      ],
      "execution_count": 0,
      "outputs": []
    },
    {
      "cell_type": "markdown",
      "metadata": {
        "id": "Ob25bXKD6BR_",
        "colab_type": "text"
      },
      "source": [
        "Напишите самостоятельно функцию Python под названием **split_data**\n",
        "со следующими параметрами: \n",
        "SOURCE - каталог, в котором содержатся нужные файлы\n",
        "TRAINING - каталог, в который надо скопировать часть файлов из SOURCE\n",
        "TESTING - каталог, в который надо скопировать оставшуюся часть файлов из SOURCE\n",
        "SPLIT_SIZE - определяет в долях единицы соотношение частей TRAINING и TESTING\n",
        "\n",
        "**split_data** делит имеющиеся файлы на два набора в указанной пропорции.\n",
        "например, если SOURCE - PetImages/Cat, а SPLIT_SIZE - .9, то 90% изображений из PetImages/Cat должны копироваться в каталог TRAINING, а 10% изображений - в каталог TESTING\n",
        "\n",
        "Файлы должны быть выбраны случайно.\n",
        "Кроме того, все изображения должны быть проверены, и файлы с нулевой длиной не должны копироваться"
      ]
    },
    {
      "cell_type": "code",
      "metadata": {
        "id": "zvSODo0f9LaU",
        "colab_type": "code",
        "colab": {}
      },
      "source": [
        "# os.listdir(DIRECTORY) - список содержимого этого каталога\n",
        "# os.path.getsize(fullName)  - размер указанного файла\n",
        "# copyfile(sourceFullName, destinationFullName) копирует данные из source в destination. \n",
        "# random.sample(list, len(list)) возвращает перемешанный список указанной длины\n",
        "\n",
        "def split_data(SOURCE, TRAINING, TESTING, SPLIT_SIZE):\n",
        "    # ЗДЕСЬ БУДЕТ ВАШ КОД\n",
        "\n",
        "\n",
        "\n",
        "CAT_SOURCE_DIR = \"/tmp/PetImages/Cat/\"\n",
        "TRAINING_CATS_DIR = \"/tmp/cats-v-dogs/training/cats/\"\n",
        "TESTING_CATS_DIR = \"/tmp/cats-v-dogs/testing/cats/\"\n",
        "DOG_SOURCE_DIR = \"/tmp/PetImages/Dog/\"\n",
        "TRAINING_DOGS_DIR = \"/tmp/cats-v-dogs/training/dogs/\"\n",
        "TESTING_DOGS_DIR = \"/tmp/cats-v-dogs/testing/dogs/\"\n",
        "\n",
        "split_size = .9\n",
        "split_data(CAT_SOURCE_DIR, TRAINING_CATS_DIR, TESTING_CATS_DIR, split_size)\n",
        "split_data(DOG_SOURCE_DIR, TRAINING_DOGS_DIR, TESTING_DOGS_DIR, split_size)\n",
        "\n",
        "# ожидаемый вывод:\n",
        "# 666.jpg имеет нулевую длину, не копируется\n",
        "# 11702.jpg имеет нулевую длину, не копируется"
      ],
      "execution_count": 0,
      "outputs": []
    },
    {
      "cell_type": "markdown",
      "metadata": {
        "id": "GEC918N49KAc",
        "colab_type": "text"
      },
      "source": [
        "проверьте, все ли идет по плану"
      ]
    },
    {
      "cell_type": "code",
      "metadata": {
        "id": "luthalB76ufC",
        "colab_type": "code",
        "colab": {}
      },
      "source": [
        "print(len(os.listdir('/tmp/cats-v-dogs/training/cats/')))\n",
        "print(len(os.listdir('/tmp/cats-v-dogs/training/dogs/')))\n",
        "print(len(os.listdir('/tmp/cats-v-dogs/testing/cats/')))\n",
        "print(len(os.listdir('/tmp/cats-v-dogs/testing/dogs/')))\n",
        "\n",
        "# ожидаемый вывод:\n",
        "# 11250\n",
        "# 11250\n",
        "# 1250\n",
        "# 1250"
      ],
      "execution_count": 0,
      "outputs": []
    },
    {
      "cell_type": "markdown",
      "metadata": {
        "id": "eeNRDPDm9QHx",
        "colab_type": "text"
      },
      "source": [
        "Определите модель KERAS для классификации кошек и собак. Используйте как минимум три сверточных слоя"
      ]
    },
    {
      "cell_type": "code",
      "metadata": {
        "id": "-BQrav4anTmj",
        "colab_type": "code",
        "colab": {}
      },
      "source": [
        "# USE AT LEAST 3 CONVOLUTION LAYERS\n",
        "model = tf.keras.models.Sequential([\n",
        "# ЗДЕСЬ БУДЕТ ВАШ КОД\n",
        "])\n",
        "\n",
        "model.compile(optimizer=RMSprop(lr=0.001), loss='binary_crossentropy', metrics=['acc'])"
      ],
      "execution_count": 0,
      "outputs": []
    },
    {
      "cell_type": "markdown",
      "metadata": {
        "id": "xaZQ2b-r9hbQ",
        "colab_type": "text"
      },
      "source": [
        "слой предварительной подготовки данных обучения и валидации. Используйте Data Generator, как вы делали это раньше."
      ]
    },
    {
      "cell_type": "code",
      "metadata": {
        "id": "mlNjoJ5D61N6",
        "colab_type": "code",
        "colab": {}
      },
      "source": [
        "TRAINING_DIR = #ЗДЕСЬ ВАШ КОД\n",
        "train_datagen = #ЗДЕСЬ ВАШ КОД\n",
        "train_generator = #ЗДЕСЬ ВАШ КОД\n",
        "\n",
        "VALIDATION_DIR = #ЗДЕСЬ ВАШ КОД\n",
        "validation_datagen = #ЗДЕСЬ ВАШ КОД\n",
        "validation_generator = #ЗДЕСЬ ВАШ КОД\n",
        "\n",
        "\n",
        "\n",
        "# Ожидаемый вывод\n",
        "# Found 22498 images belonging to 2 classes.\n",
        "# Found 2500 images belonging to 2 classes."
      ],
      "execution_count": 0,
      "outputs": []
    },
    {
      "cell_type": "markdown",
      "metadata": {
        "id": "PrUsxp0g98iy",
        "colab_type": "text"
      },
      "source": [
        "Запускаем обучение модели"
      ]
    },
    {
      "cell_type": "code",
      "metadata": {
        "id": "KyS4n53w7DxC",
        "colab_type": "code",
        "colab": {}
      },
      "source": [
        "history = model.fit_generator(train_generator,\n",
        "                              epochs=15,\n",
        "                              verbose=1,\n",
        "                              validation_data=validation_generator)\n",
        "\n",
        "# Здесь ожидается, что после обучения модели точность будет более 95% как тренировочная, так и при валидации."
      ],
      "execution_count": 0,
      "outputs": []
    },
    {
      "cell_type": "markdown",
      "metadata": {
        "id": "HE6EFqSp-ZfG",
        "colab_type": "text"
      },
      "source": [
        "Смотрим графики процесса тренировки"
      ]
    },
    {
      "cell_type": "code",
      "metadata": {
        "id": "MWZrJN4-65RC",
        "colab_type": "code",
        "colab": {}
      },
      "source": [
        "\n",
        "%matplotlib inline\n",
        "\n",
        "import matplotlib.image  as mpimg\n",
        "import matplotlib.pyplot as plt\n",
        "\n",
        "#-----------------------------------------------------------\n",
        "# Получить список результатов на тренировочных и тестовых данных\n",
        "# наборов для каждой эпохи обучения\n",
        "#-----------------------------------------------------------\n",
        "acc=history.history['acc']\n",
        "val_acc=history.history['val_acc']\n",
        "loss=history.history['loss']\n",
        "val_loss=history.history['val_loss']\n",
        "\n",
        "epochs=range(len(acc)) # количество эпох\n",
        "\n",
        "#------------------------------------------------\n",
        "# Рисуем точность обучения и проверки по эпохам\n",
        "#------------------------------------------------\n",
        "plt.plot(epochs, acc, 'r', \"Training Accuracy\")\n",
        "plt.plot(epochs, val_acc, 'b', \"Validation Accuracy\")\n",
        "plt.title('Training and validation accuracy')\n",
        "plt.figure()\n",
        "\n",
        "#------------------------------------------------\n",
        "# Рисуем потери обучения и проверки по эпохам\n",
        "#------------------------------------------------\n",
        "plt.plot(epochs, loss, 'r', \"Training Loss\")\n",
        "plt.plot(epochs, val_loss, 'b', \"Validation Loss\")\n",
        "\n",
        "\n",
        "plt.title('Training and validation loss')\n",
        "\n",
        "# Желаемый вывод: графики с показателями обучения и валидации"
      ],
      "execution_count": 0,
      "outputs": []
    },
    {
      "cell_type": "markdown",
      "metadata": {
        "id": "0V97i2xk_Nx3",
        "colab_type": "text"
      },
      "source": [
        "Это просто для удовольствия. Загрузить изображение и классифицировать его без сбоев"
      ]
    },
    {
      "cell_type": "code",
      "metadata": {
        "id": "LqL6FYUrtXpf",
        "colab_type": "code",
        "colab": {}
      },
      "source": [
        "\n",
        "import numpy as np\n",
        "from google.colab import files\n",
        "from keras.preprocessing import image\n",
        "\n",
        "uploaded = files.upload()\n",
        "\n",
        "for fn in uploaded.keys():\n",
        " \n",
        "  # Предсказание изображений\n",
        "  path = '/content/' + fn\n",
        "  img = image.load_img(path, target_size=(# ЗДЕСЬ ВАШ КОД))\n",
        "  x = image.img_to_array(img)\n",
        "  x = np.expand_dims(x, axis=0)\n",
        "\n",
        "  images = np.vstack([x])\n",
        "  classes = model.predict(images, batch_size=10)\n",
        "  print(classes[0])\n",
        "  if classes[0]>0.5:\n",
        "    print(fn + \" это собака\")\n",
        "  else:\n",
        "    print(fn + \" это кошка\")"
      ],
      "execution_count": 0,
      "outputs": []
    }
  ]
}