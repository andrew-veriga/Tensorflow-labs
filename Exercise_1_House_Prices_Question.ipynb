{
  "nbformat": 4,
  "nbformat_minor": 0,
  "metadata": {
    "coursera": {
      "course_slug": "introduction-tensorflow",
      "graded_item_id": "jRjw8",
      "launcher_item_id": "YoQKl"
    },
    "kernelspec": {
      "display_name": "Python 3",
      "language": "python",
      "name": "python3"
    },
    "language_info": {
      "codemirror_mode": {
        "name": "ipython",
        "version": 3
      },
      "file_extension": ".py",
      "mimetype": "text/x-python",
      "name": "python",
      "nbconvert_exporter": "python",
      "pygments_lexer": "ipython3",
      "version": "3.6.8"
    },
    "colab": {
      "name": "Copy of utf-8''Exercise_1_House_Prices_Question-Copy1.ipynb",
      "provenance": []
    }
  },
  "cells": [
    {
      "cell_type": "markdown",
      "metadata": {
        "colab_type": "text",
        "id": "mw2VBrBcgvGa"
      },
      "source": [
        "В этом упражнении вы построите модель, которая предсказывает цену дома по простой формуле.\n",
        "\n",
        "Итак, представьте себе, если бы цены на жилье были высчитывались, как: стоимость дома = 500 000 + 500 000 за каждую комнату, то есть однокомнатный дом стоит 1000 000, двухкомнатный  стоит 1 500 000 и т.д.\n",
        "Надо создать модель, которая обучается этим отношениям так, чтобы она предсказывала дом с 7 комнатами стоимостью около 4 млн.\n",
        "\n",
        "Подсказка: ваша модель может работать лучше, если вы масштабируете цену дома. Вам не нужно давать ответ 4 000 000. Может быть, лучше создать что-то, что предсказывает число 4, и тогда ваш ответ будет в миллионах"
      ]
    },
    {
      "cell_type": "code",
      "metadata": {
        "id": "UJwAJ9786Bp9",
        "colab_type": "code",
        "colab": {}
      },
      "source": [
        "import tensorflow as tf\n",
        "import numpy as np\n",
        "from tensorflow import keras"
      ],
      "execution_count": 0,
      "outputs": []
    },
    {
      "cell_type": "code",
      "metadata": {
        "colab_type": "code",
        "id": "PUNO2E6SeURH",
        "colab": {}
      },
      "source": [
        "# оцениваемая функция: house_model\n",
        "def house_model(y_new):\n",
        "    xs = # Your Code Here#\n",
        "    ys = # Your Code Here#\n",
        "    model = # Your Code Here#\n",
        "    model.compile(# Your Code Here#)\n",
        "    model.fit(# Your Code here#)\n",
        "    return model.predict(y_new)[0]"
      ],
      "execution_count": 0,
      "outputs": []
    },
    {
      "cell_type": "code",
      "metadata": {
        "id": "oogelpPT6BqD",
        "colab_type": "code",
        "colab": {}
      },
      "source": [
        "prediction = house_model([7.0])\n",
        "print(prediction)"
      ],
      "execution_count": 0,
      "outputs": []
    }
  ]
}