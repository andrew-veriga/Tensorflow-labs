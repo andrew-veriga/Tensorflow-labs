{
 "cells": [
  {
   "cell_type": "markdown",
   "metadata": {
    "colab_type": "text",
    "id": "mw2VBrBcgvGa"
   },
   "source": [
    "В этом упражнении вы попробуете построить нейронную сеть, которая предсказывает цену дома по простой формуле.\n",
    "\n",
    "Представьте себе, что цены на жилье просто зависят от количества комнат: дом стоит 500 000 + 500 000 за комнату. то есть дом с 1 спальней стоит 1 000 000, дом с 2 спальнями стоит 1 500 000 и т.д.\n",
    "\n",
    "Как бы вы создали нейронную сеть, которая обучается этому отношению так, чтобы она предсказывала дом с 7 спальнями стоимостью около 4 млн.\n",
    "\n",
    "Подсказка: ваша сеть может работать лучше, если вы масштабируете цену. Не нужно давать ответ 4 000 000, может быть, лучше создать что-то, что предсказывает число 4, и тогда ваш ответ будет в миллионах."
   ]
  },
  {
   "cell_type": "code",
   "execution_count": null,
   "metadata": {},
   "outputs": [],
   "source": [
    "import tensorflow as tf\n",
    "import numpy as np\n",
    "from tensorflow import keras"
   ]
  },
  {
   "cell_type": "code",
   "execution_count": null,
   "metadata": {
    "colab": {},
    "colab_type": "code",
    "id": "PUNO2E6SeURH"
   },
   "outputs": [],
   "source": [
    "# GRADED FUNCTION: house_model\n",
    "def house_model(y_new):\n",
    "    xs = # Здесь ваш код#\n",
    "    ys = # Здесь ваш код#\n",
    "    model = # Здесь ваш код#\n",
    "    model.compile(# Здесь ваш код#)\n",
    "    model.fit(# Здесь ваш код#)\n",
    "    return model.predict(y_new)[0]"
   ]
  },
  {
   "cell_type": "code",
   "execution_count": null,
   "metadata": {},
   "outputs": [],
   "source": [
    "prediction = house_model([7.0])\n",
    "print(prediction)"
   ]
  }
 ],
 "metadata": {
  "coursera": {
   "course_slug": "introduction-tensorflow",
   "graded_item_id": "jRjw8",
   "launcher_item_id": "YoQKl"
  },
  "kernelspec": {
   "display_name": "Python 3",
   "language": "python",
   "name": "python3"
  },
  "language_info": {
   "codemirror_mode": {
    "name": "ipython",
    "version": 3
   },
   "file_extension": ".py",
   "mimetype": "text/x-python",
   "name": "python",
   "nbconvert_exporter": "python",
   "pygments_lexer": "ipython3",
   "version": "3.6.8"
  }
 },
 "nbformat": 4,
 "nbformat_minor": 2
}
